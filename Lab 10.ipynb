{
 "cells": [
  {
   "cell_type": "markdown",
   "id": "e9a2e6d6",
   "metadata": {},
   "source": [
    "## Import necessary libraries"
   ]
  },
  {
   "cell_type": "code",
   "execution_count": 1,
   "id": "5edda210",
   "metadata": {},
   "outputs": [],
   "source": [
    "import pandas as pd\n",
    "import numpy as np\n",
    "import matplotlib.pyplot as plt\n",
    "from utils import *\n",
    "import copy\n",
    "import math\n",
    "%matplotlib inline"
   ]
  },
  {
   "cell_type": "markdown",
   "id": "1010b511",
   "metadata": {},
   "source": [
    "## Loading Data Set"
   ]
  },
  {
   "cell_type": "code",
   "execution_count": 2,
   "id": "7dc79478",
   "metadata": {},
   "outputs": [
    {
     "name": "stdout",
     "output_type": "stream",
     "text": [
      "   Population   Profit\n",
      "0      6.1101  17.5920\n",
      "1      5.5277   9.1302\n",
      "2      8.5186  13.6620\n",
      "3      7.0032  11.8540\n",
      "4      5.8598   6.8233\n"
     ]
    }
   ],
   "source": [
    "# Read the data file correctly\n",
    "df = pd.read_csv(r\"E:\\Pugc\\6th semester\\Aritficial Intelligence\\ex1data1.txt\", delimiter=',', header=None)\n",
    "\n",
    "# Assign column names\n",
    "df.columns = ['Population', 'Profit']\n",
    "\n",
    "# Extract x and y data\n",
    "x_train = df['Population'].values\n",
    "y_train = df['Profit'].values\n",
    "\n",
    "# Verify the loaded data\n",
    "print(df.head())  # Ensure the data matches the example from the PDF"
   ]
  },
  {
   "cell_type": "markdown",
   "id": "ef9c7820",
   "metadata": {},
   "source": [
    "View the variables"
   ]
  },
  {
   "cell_type": "code",
   "execution_count": 3,
   "id": "6a546050",
   "metadata": {},
   "outputs": [
    {
     "name": "stdout",
     "output_type": "stream",
     "text": [
      "Type of x_train: <class 'numpy.ndarray'>\n",
      "First five elements of x_train are:\n",
      " [6.1101 5.5277 8.5186 7.0032 5.8598]\n"
     ]
    }
   ],
   "source": [
    "# print x_train\n",
    "print(\"Type of x_train:\",type(x_train))\n",
    "print(\"First five elements of x_train are:\\n\", x_train[:5])"
   ]
  },
  {
   "cell_type": "code",
   "execution_count": 4,
   "id": "d0b31626",
   "metadata": {},
   "outputs": [
    {
     "name": "stdout",
     "output_type": "stream",
     "text": [
      "Type of y_train: <class 'numpy.ndarray'>\n",
      "First five elements of y_train are:\n",
      " [17.592   9.1302 13.662  11.854   6.8233]\n"
     ]
    }
   ],
   "source": [
    "# print y_train\n",
    "print(\"Type of y_train:\",type(y_train))\n",
    "print(\"First five elements of y_train are:\\n\", y_train[:5])"
   ]
  },
  {
   "cell_type": "markdown",
   "id": "c84efc0b",
   "metadata": {},
   "source": [
    "Check the dimensions of your variables"
   ]
  },
  {
   "cell_type": "code",
   "execution_count": 5,
   "id": "e5cbde23",
   "metadata": {},
   "outputs": [
    {
     "name": "stdout",
     "output_type": "stream",
     "text": [
      "The shape of x_train is: (97,)\n",
      "The shape of y_train is:  (97,)\n",
      "Number of training examples (m): 97\n"
     ]
    }
   ],
   "source": [
    "print ('The shape of x_train is:', x_train.shape)\n",
    "print ('The shape of y_train is: ', y_train.shape)\n",
    "print ('Number of training examples (m):', len(x_train))"
   ]
  },
  {
   "cell_type": "markdown",
   "id": "d3ff95d5",
   "metadata": {},
   "source": [
    "Visualize your data"
   ]
  },
  {
   "cell_type": "code",
   "execution_count": 6,
   "id": "0e2d9022",
   "metadata": {},
   "outputs": [
    {
     "data": {
      "image/png": "[encoded data removed]",
      "text/plain": [
       "<Figure size 640x480 with 1 Axes>"
      ]
     },
     "metadata": {},
     "output_type": "display_data"
    }
   ],
   "source": [
    "# Create a scatter plot of the data. To change the markers to red \"x\",\n",
    "# we used the 'marker' and 'c' parameters\n",
    "plt.scatter(x_train, y_train, marker='x', c='r')\n",
    "# Set the title\n",
    "plt.title(\"Profits vs. Population per city\")\n",
    "# Set the y-axis label\n",
    "plt.ylabel('Profit in $10,000')\n",
    "# Set the x-axis label\n",
    "plt.xlabel('Population of City in 10,000s')\n",
    "plt.show()"
   ]
  },
  {
   "cell_type": "markdown",
   "id": "436b30d3",
   "metadata": {},
   "source": [
    "## Computer Cost"
   ]
  },
  {
   "cell_type": "code",
   "execution_count": 7,
   "id": "5b902e55",
   "metadata": {},
   "outputs": [],
   "source": [
    "# UNQ_C1\n",
    "# GRADED FUNCTION: compute_cost\n",
    "def compute_cost(x, y, w, b):\n",
    " \n",
    " # number of training examples\n",
    " m = x.shape[0]\n",
    "\n",
    " # You need to return this variable correctly\n",
    " total_cost = 0\n",
    "\n",
    " ### START CODE HERE ###\n",
    "\n",
    " yp = np.zeros(m)\n",
    " yp = np.dot(x, w) + b\n",
    " total_cost = (1 / (2 * m)) * np.sum((yp-y)**2)\n",
    "\n",
    " ### END CODE HERE ###\n",
    " return total_cost"
   ]
  },
  {
   "cell_type": "code",
   "execution_count": 8,
   "id": "c8d1c483",
   "metadata": {},
   "outputs": [
    {
     "name": "stdout",
     "output_type": "stream",
     "text": [
      "<class 'numpy.float64'>\n",
      "Cost at initial w: 75.203\n"
     ]
    }
   ],
   "source": [
    "initial_w = 2\n",
    "initial_b = 1\n",
    "cost = compute_cost(x_train, y_train, initial_w, initial_b)\n",
    "print(type(cost))\n",
    "print(f'Cost at initial w: {cost:.3f}')\n",
    "# Public tests\n",
    "\n",
    "#from public_tests import *\n",
    "#compute_cost_test(compute_cost)\n"
   ]
  },
  {
   "cell_type": "markdown",
   "id": "a4968e36",
   "metadata": {},
   "source": [
    "## Compute Gradient Descent"
   ]
  },
  {
   "cell_type": "code",
   "execution_count": 9,
   "id": "d5091f3e",
   "metadata": {},
   "outputs": [],
   "source": [
    "def compute_gradient(x, y, w, b):\n",
    " # Number of training examples\n",
    " m = x.shape[0]\n",
    "\n",
    " # You need to return the following variables correctly\n",
    " dj_dw = 0\n",
    " dj_db = 0\n",
    "\n",
    " ### START CODE HERE ###\n",
    "\n",
    " yp = np.zeros(m)\n",
    " yp = np.dot(x, w) + b\n",
    " dj_db = (1 / m) * np.sum(yp-y)\n",
    " dj_dw = (1 / m) * np.sum((yp-y)*x)\n",
    "\n",
    " ### END CODE HERE ###\n",
    "\n",
    " return dj_dw, dj_db\n"
   ]
  },
  {
   "cell_type": "code",
   "execution_count": 10,
   "id": "3d6277ad",
   "metadata": {},
   "outputs": [
    {
     "name": "stdout",
     "output_type": "stream",
     "text": [
      "Gradient at initial w, b (zeros): -65.32884974555671 -5.839135051546392\n"
     ]
    }
   ],
   "source": [
    "# Compute and display gradient with w initialized to zeroes\n",
    "initial_w = 0\n",
    "initial_b = 0\n",
    "tmp_dj_dw, tmp_dj_db = compute_gradient(x_train, y_train, initial_w, initial_b)\n",
    "print('Gradient at initial w, b (zeros):', tmp_dj_dw, tmp_dj_db)"
   ]
  },
  {
   "cell_type": "code",
   "execution_count": 11,
   "id": "76330b2d",
   "metadata": {},
   "outputs": [
    {
     "name": "stdout",
     "output_type": "stream",
     "text": [
      "Gradient at test w, b: -47.41610118114433 -4.007175051546392\n"
     ]
    }
   ],
   "source": [
    "# Compute and display cost and gradient with non-zero w\n",
    "test_w = 0.2\n",
    "test_b = 0.2\n",
    "tmp_dj_dw, tmp_dj_db = compute_gradient(x_train, y_train, test_w, test_b)\n",
    "print('Gradient at test w, b:', tmp_dj_dw, tmp_dj_db)"
   ]
  },
  {
   "cell_type": "code",
   "execution_count": 12,
   "id": "0a0ba9e0",
   "metadata": {},
   "outputs": [],
   "source": [
    "def compute_gradient(x, y, w, b):\n",
    "\n",
    " # Number of training examples\n",
    " m = x.shape[0]\n",
    "\n",
    " # You need to return the following variables correctly\n",
    " dj_dw = 0\n",
    " dj_db = 0\n",
    "\n",
    " ### START CODE HERE ###\n",
    "\n",
    " yp = np.zeros(m)\n",
    " yp = np.dot(x, w) + b\n",
    " dj_db = (1 / m) * np.sum(yp-y)\n",
    " dj_dw = (1 / m) * np.sum((yp-y)*x)\n",
    "\n",
    " ### END CODE HERE ###\n",
    "\n",
    " return dj_dw, dj_db"
   ]
  },
  {
   "cell_type": "code",
   "execution_count": 13,
   "id": "d1d4387d",
   "metadata": {},
   "outputs": [
    {
     "name": "stdout",
     "output_type": "stream",
     "text": [
      "Gradient at initial w, b (zeros): -65.32884974555671 -5.839135051546392\n"
     ]
    }
   ],
   "source": [
    "# Compute and display gradient with w initialized to zeroes\n",
    "initial_w = 0\n",
    "initial_b = 0\n",
    "tmp_dj_dw, tmp_dj_db = compute_gradient(x_train, y_train, initial_w, initial_b)\n",
    "print('Gradient at initial w, b (zeros):', tmp_dj_dw, tmp_dj_db)"
   ]
  },
  {
   "cell_type": "code",
   "execution_count": 14,
   "id": "deaa9a67",
   "metadata": {},
   "outputs": [
    {
     "name": "stdout",
     "output_type": "stream",
     "text": [
      "Gradient at test w, b: -47.41610118114433 -4.007175051546392\n"
     ]
    }
   ],
   "source": [
    "# Compute and display cost and gradient with non-zero w\n",
    "test_w = 0.2\n",
    "test_b = 0.2\n",
    "tmp_dj_dw, tmp_dj_db = compute_gradient(x_train, y_train, test_w, test_b)\n",
    "print('Gradient at test w, b:', tmp_dj_dw, tmp_dj_db)"
   ]
  },
  {
   "cell_type": "code",
   "execution_count": 15,
   "id": "c9b8a5be",
   "metadata": {},
   "outputs": [],
   "source": [
    "def gradient_descent(x, y, w_in, b_in, cost_function, gradient_function, alpha, num_iters):\n",
    "    # number of training examples\n",
    " m = len(x)\n",
    "\n",
    " # An array to store cost J and w's at each iteration — primarily for graphing later\n",
    " J_history = []\n",
    " w_history = []\n",
    " w = copy.deepcopy(w_in) #avoid modifying global w within function\n",
    " b = b_in\n",
    "\n",
    " for i in range(num_iters):\n",
    " # Calculate the gradient and update the parameters\n",
    "  dj_dw, dj_db = gradient_function(x, y, w, b )\n",
    " # Update Parameters using w, b, alpha and gradient\n",
    "  w = w - alpha * dj_dw\n",
    "  b = b - alpha * dj_db\n",
    " # Save cost J at each iteration\n",
    "  if i<100000: # prevent resource exhaustion\n",
    "    cost = cost_function(x, y, w, b)\n",
    "    J_history.append(cost)\n",
    " # Print cost every at intervals 10 times or as many iterations if < 10\n",
    "  if i% math.ceil(num_iters/10) == 0:\n",
    "    w_history.append(w)\n",
    "    print(f\"Iteration {i:4}: Cost {float(J_history[-1]):8.2f} \")\n",
    "\n",
    " return w, b, J_history, w_history #return w and J,w history for graphin"
   ]
  },
  {
   "cell_type": "code",
   "execution_count": 16,
   "id": "988184a7",
   "metadata": {},
   "outputs": [
    {
     "name": "stdout",
     "output_type": "stream",
     "text": [
      "Iteration    0: Cost     6.74 \n",
      "Iteration  150: Cost     5.31 \n",
      "Iteration  300: Cost     4.96 \n",
      "Iteration  450: Cost     4.76 \n",
      "Iteration  600: Cost     4.64 \n",
      "Iteration  750: Cost     4.57 \n",
      "Iteration  900: Cost     4.53 \n",
      "Iteration 1050: Cost     4.51 \n",
      "Iteration 1200: Cost     4.50 \n",
      "Iteration 1350: Cost     4.49 \n",
      "w,b found by gradient descent: 1.166362350335582 -3.6302914394043597\n"
     ]
    }
   ],
   "source": [
    "# initialize fitting parameters. Recall that the shape of w is (n,)\n",
    "initial_w = 0.\n",
    "initial_b = 0.\n",
    "# some gradient descent settings\n",
    "iterations = 1500\n",
    "alpha = 0.01\n",
    "w,b,_,_ = gradient_descent(x_train ,y_train, initial_w, initial_b, compute_cost, compute_gradient, alpha, iterations)\n",
    "print(\"w,b found by gradient descent:\", w, b)"
   ]
  },
  {
   "cell_type": "code",
   "execution_count": 17,
   "id": "e792148c",
   "metadata": {},
   "outputs": [
    {
     "data": {
      "image/png": "[encoded data removed]",
      "text/plain": [
       "<Figure size 640x480 with 1 Axes>"
      ]
     },
     "metadata": {},
     "output_type": "display_data"
    }
   ],
   "source": [
    "# Assuming x_train and y_train are your data points, and w, b are your fitted parameters\n",
    "m = x_train.shape[0]\n",
    "predicted = np.zeros(m)\n",
    "\n",
    "# Calculate the predicted values based on the fitted line\n",
    "for i in range(m):\n",
    "    predicted[i] = w * x_train[i] + b\n",
    "\n",
    "# Plot the linear fit\n",
    "plt.plot(x_train, predicted, color='b', label='Linear Fit')\n",
    "\n",
    "# Create a scatter plot of the original data\n",
    "plt.scatter(x_train, y_train, marker='x', color='r', label='Training Data')\n",
    "\n",
    "# Set the title and labels\n",
    "plt.title(\"Profits vs. Population per City\")\n",
    "plt.xlabel('Population of City in 10,000s')\n",
    "plt.ylabel('Profit in $10,000')\n",
    "\n",
    "# Add a legend\n",
    "plt.legend()\n",
    "\n",
    "# Display the plot\n",
    "plt.show()\n"
   ]
  },
  {
   "cell_type": "markdown",
   "id": "f8e263fe",
   "metadata": {},
   "source": [
    "Predicted Values"
   ]
  },
  {
   "cell_type": "code",
   "execution_count": 18,
   "id": "5cf900f8",
   "metadata": {},
   "outputs": [
    {
     "name": "stdout",
     "output_type": "stream",
     "text": [
      "For population = 35,000, we predict a profit of $4519.77\n",
      "For population = 70,000, we predict a profit of $45342.45\n"
     ]
    }
   ],
   "source": [
    "predict1 = 3.5 * w + b\n",
    "print('For population = 35,000, we predict a profit of $%.2f' % (predict1*10000))\n",
    "predict2 = 7.0 * w + b\n",
    "print('For population = 70,000, we predict a profit of $%.2f' % (predict2*10000))"
   ]
  }
 ],
 "metadata": {
  "kernelspec": {
   "display_name": "Python 3 (ipykernel)",
   "language": "python",
   "name": "python3"
  },
  "language_info": {
   "codemirror_mode": {
    "name": "ipython",
    "version": 3
   },
   "file_extension": ".py",
   "mimetype": "text/x-python",
   "name": "python",
   "nbconvert_exporter": "python",
   "pygments_lexer": "ipython3",
   "version": "3.11.4"
  }
 },
 "nbformat": 4,
 "nbformat_minor": 5
}
